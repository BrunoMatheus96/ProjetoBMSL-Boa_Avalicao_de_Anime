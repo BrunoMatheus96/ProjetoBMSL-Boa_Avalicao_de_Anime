{
 "cells": [
  {
   "cell_type": "markdown",
   "metadata": {},
   "source": [
    "# Problema de Negócio:\n",
    "\n",
    "📝Qual a chance de um anime ser considerado \"excelente\" (nota > 8)?"
   ]
  },
  {
   "cell_type": "markdown",
   "metadata": {},
   "source": [
    "# Importando Libs"
   ]
  },
  {
   "cell_type": "code",
   "execution_count": 171,
   "metadata": {},
   "outputs": [],
   "source": [
    "import pandas as pd\n",
    "import numpy as np\n",
    "import seaborn as sns\n",
    "import matplotlib.pyplot as plt\n",
    "from scipy import stats\n",
    "from scipy.stats import norm"
   ]
  },
  {
   "cell_type": "markdown",
   "metadata": {},
   "source": [
    "# Carregando Dataset"
   ]
  },
  {
   "cell_type": "code",
   "execution_count": 172,
   "metadata": {},
   "outputs": [],
   "source": [
    "anime = pd.read_csv(\"animes.csv\")\n"
   ]
  },
  {
   "cell_type": "markdown",
   "metadata": {},
   "source": [
    "# Analisando os Dados"
   ]
  },
  {
   "cell_type": "code",
   "execution_count": 173,
   "metadata": {},
   "outputs": [
    {
     "data": {
      "text/plain": [
       "(15262, 27)"
      ]
     },
     "execution_count": 173,
     "metadata": {},
     "output_type": "execute_result"
    }
   ],
   "source": [
    "anime.shape"
   ]
  },
  {
   "cell_type": "code",
   "execution_count": 174,
   "metadata": {},
   "outputs": [
    {
     "data": {
      "text/html": [
       "<div>\n",
       "<style scoped>\n",
       "    .dataframe tbody tr th:only-of-type {\n",
       "        vertical-align: middle;\n",
       "    }\n",
       "\n",
       "    .dataframe tbody tr th {\n",
       "        vertical-align: top;\n",
       "    }\n",
       "\n",
       "    .dataframe thead th {\n",
       "        text-align: right;\n",
       "    }\n",
       "</style>\n",
       "<table border=\"1\" class=\"dataframe\">\n",
       "  <thead>\n",
       "    <tr style=\"text-align: right;\">\n",
       "      <th></th>\n",
       "      <th>Japanese</th>\n",
       "      <th>Type</th>\n",
       "      <th>Episodes</th>\n",
       "      <th>Status</th>\n",
       "      <th>Aired</th>\n",
       "      <th>Premiered</th>\n",
       "      <th>Producers</th>\n",
       "      <th>Licensors</th>\n",
       "      <th>Studios</th>\n",
       "      <th>Source</th>\n",
       "      <th>...</th>\n",
       "      <th>Favorites</th>\n",
       "      <th>description</th>\n",
       "      <th>Name</th>\n",
       "      <th>English Name</th>\n",
       "      <th>Recommended</th>\n",
       "      <th>Mixed Feelings</th>\n",
       "      <th>Not Recommended</th>\n",
       "      <th>Themes</th>\n",
       "      <th>Demographics</th>\n",
       "      <th>Seasonal</th>\n",
       "    </tr>\n",
       "  </thead>\n",
       "  <tbody>\n",
       "    <tr>\n",
       "      <th>0</th>\n",
       "      <td>葬送のフリーレン</td>\n",
       "      <td>TV</td>\n",
       "      <td>28</td>\n",
       "      <td>Finished Airing</td>\n",
       "      <td>Sep 29, 2023 to Mar 22, 2024</td>\n",
       "      <td>Fall 2023</td>\n",
       "      <td>Aniplex,       Dentsu,       Shogakukan-Shueis...</td>\n",
       "      <td>None found, add some</td>\n",
       "      <td>Madhouse</td>\n",
       "      <td>Manga</td>\n",
       "      <td>...</td>\n",
       "      <td>43111</td>\n",
       "      <td>During their decade-long quest to defeat the D...</td>\n",
       "      <td>Sousou no Frieren</td>\n",
       "      <td>Frieren: Beyond Journey's End</td>\n",
       "      <td>493</td>\n",
       "      <td>67</td>\n",
       "      <td>42</td>\n",
       "      <td>['Unknown-Themes']</td>\n",
       "      <td>['Shounen']</td>\n",
       "      <td>False</td>\n",
       "    </tr>\n",
       "    <tr>\n",
       "      <th>1</th>\n",
       "      <td>鋼の錬金術師 FULLMETAL ALCHEMIST</td>\n",
       "      <td>TV</td>\n",
       "      <td>64</td>\n",
       "      <td>Finished Airing</td>\n",
       "      <td>Apr 5, 2009 to Jul 4, 2010</td>\n",
       "      <td>Spring 2009</td>\n",
       "      <td>Aniplex,       Square Enix,       Mainichi Bro...</td>\n",
       "      <td>Funimation,       Aniplex of America</td>\n",
       "      <td>Bones</td>\n",
       "      <td>Manga</td>\n",
       "      <td>...</td>\n",
       "      <td>226182</td>\n",
       "      <td>After a horrific alchemy experiment goes wrong...</td>\n",
       "      <td>Fullmetal Alchemist: Brotherhood</td>\n",
       "      <td>NaN</td>\n",
       "      <td>912</td>\n",
       "      <td>59</td>\n",
       "      <td>39</td>\n",
       "      <td>['Military']</td>\n",
       "      <td>['Shounen']</td>\n",
       "      <td>False</td>\n",
       "    </tr>\n",
       "    <tr>\n",
       "      <th>2</th>\n",
       "      <td>STEINS;GATE</td>\n",
       "      <td>TV</td>\n",
       "      <td>24</td>\n",
       "      <td>Finished Airing</td>\n",
       "      <td>Apr 6, 2011 to Sep 14, 2011</td>\n",
       "      <td>Spring 2011</td>\n",
       "      <td>Frontier Works,       Media Factory,       Kad...</td>\n",
       "      <td>Funimation</td>\n",
       "      <td>White Fox</td>\n",
       "      <td>Visual novel</td>\n",
       "      <td>...</td>\n",
       "      <td>189734</td>\n",
       "      <td>Eccentric scientist Rintarou Okabe has a never...</td>\n",
       "      <td>Steins;Gate</td>\n",
       "      <td>NaN</td>\n",
       "      <td>1006</td>\n",
       "      <td>73</td>\n",
       "      <td>73</td>\n",
       "      <td>['Psychological', 'TimeTravel']</td>\n",
       "      <td>['Unknown-Demographic']</td>\n",
       "      <td>True</td>\n",
       "    </tr>\n",
       "    <tr>\n",
       "      <th>3</th>\n",
       "      <td>銀魂°</td>\n",
       "      <td>TV</td>\n",
       "      <td>51</td>\n",
       "      <td>Finished Airing</td>\n",
       "      <td>Apr 8, 2015 to Mar 30, 2016</td>\n",
       "      <td>Spring 2015</td>\n",
       "      <td>TV Tokyo,       Aniplex,       Dentsu</td>\n",
       "      <td>Funimation,       Crunchyroll</td>\n",
       "      <td>Bandai Namco Pictures</td>\n",
       "      <td>Manga</td>\n",
       "      <td>...</td>\n",
       "      <td>16680</td>\n",
       "      <td>Gintoki, Shinpachi, and Kagura return as the f...</td>\n",
       "      <td>Gintama°</td>\n",
       "      <td>Gintama Season 4</td>\n",
       "      <td>79</td>\n",
       "      <td>3</td>\n",
       "      <td>1</td>\n",
       "      <td>['GagHumor', 'Historical', 'Parody', 'Samurai']</td>\n",
       "      <td>['Shounen']</td>\n",
       "      <td>False</td>\n",
       "    </tr>\n",
       "    <tr>\n",
       "      <th>4</th>\n",
       "      <td>進撃の巨人 Season3 Part.2</td>\n",
       "      <td>TV</td>\n",
       "      <td>10</td>\n",
       "      <td>Finished Airing</td>\n",
       "      <td>Apr 29, 2019 to Jul 1, 2019</td>\n",
       "      <td>Spring 2019</td>\n",
       "      <td>Production I.G,       Dentsu,       Mainichi B...</td>\n",
       "      <td>Funimation</td>\n",
       "      <td>Wit Studio</td>\n",
       "      <td>Manga</td>\n",
       "      <td>...</td>\n",
       "      <td>58793</td>\n",
       "      <td>Seeking to restore humanity's diminishing hope...</td>\n",
       "      <td>Shingeki no Kyojin Season 3 Part 2</td>\n",
       "      <td>Attack on Titan Season 3 Part 2</td>\n",
       "      <td>198</td>\n",
       "      <td>9</td>\n",
       "      <td>11</td>\n",
       "      <td>['Gore', 'Military', 'Survival']</td>\n",
       "      <td>['Shounen']</td>\n",
       "      <td>True</td>\n",
       "    </tr>\n",
       "  </tbody>\n",
       "</table>\n",
       "<p>5 rows × 27 columns</p>\n",
       "</div>"
      ],
      "text/plain": [
       "                     Japanese Type Episodes           Status  \\\n",
       "0                    葬送のフリーレン   TV       28  Finished Airing   \n",
       "1  鋼の錬金術師 FULLMETAL ALCHEMIST   TV       64  Finished Airing   \n",
       "2                 STEINS;GATE   TV       24  Finished Airing   \n",
       "3                         銀魂°   TV       51  Finished Airing   \n",
       "4        進撃の巨人 Season3 Part.2   TV       10  Finished Airing   \n",
       "\n",
       "                          Aired    Premiered  \\\n",
       "0  Sep 29, 2023 to Mar 22, 2024    Fall 2023   \n",
       "1    Apr 5, 2009 to Jul 4, 2010  Spring 2009   \n",
       "2   Apr 6, 2011 to Sep 14, 2011  Spring 2011   \n",
       "3   Apr 8, 2015 to Mar 30, 2016  Spring 2015   \n",
       "4   Apr 29, 2019 to Jul 1, 2019  Spring 2019   \n",
       "\n",
       "                                           Producers  \\\n",
       "0  Aniplex,       Dentsu,       Shogakukan-Shueis...   \n",
       "1  Aniplex,       Square Enix,       Mainichi Bro...   \n",
       "2  Frontier Works,       Media Factory,       Kad...   \n",
       "3              TV Tokyo,       Aniplex,       Dentsu   \n",
       "4  Production I.G,       Dentsu,       Mainichi B...   \n",
       "\n",
       "                              Licensors                Studios        Source  \\\n",
       "0                  None found, add some               Madhouse         Manga   \n",
       "1  Funimation,       Aniplex of America                  Bones         Manga   \n",
       "2                            Funimation              White Fox  Visual novel   \n",
       "3         Funimation,       Crunchyroll  Bandai Namco Pictures         Manga   \n",
       "4                            Funimation             Wit Studio         Manga   \n",
       "\n",
       "   ... Favorites                                        description  \\\n",
       "0  ...     43111  During their decade-long quest to defeat the D...   \n",
       "1  ...    226182  After a horrific alchemy experiment goes wrong...   \n",
       "2  ...    189734  Eccentric scientist Rintarou Okabe has a never...   \n",
       "3  ...     16680  Gintoki, Shinpachi, and Kagura return as the f...   \n",
       "4  ...     58793  Seeking to restore humanity's diminishing hope...   \n",
       "\n",
       "                                 Name                     English Name  \\\n",
       "0                   Sousou no Frieren    Frieren: Beyond Journey's End   \n",
       "1    Fullmetal Alchemist: Brotherhood                              NaN   \n",
       "2                         Steins;Gate                              NaN   \n",
       "3                            Gintama°                 Gintama Season 4   \n",
       "4  Shingeki no Kyojin Season 3 Part 2  Attack on Titan Season 3 Part 2   \n",
       "\n",
       "   Recommended  Mixed Feelings  Not Recommended  \\\n",
       "0          493              67               42   \n",
       "1          912              59               39   \n",
       "2         1006              73               73   \n",
       "3           79               3                1   \n",
       "4          198               9               11   \n",
       "\n",
       "                                            Themes             Demographics  \\\n",
       "0                               ['Unknown-Themes']              ['Shounen']   \n",
       "1                                     ['Military']              ['Shounen']   \n",
       "2                  ['Psychological', 'TimeTravel']  ['Unknown-Demographic']   \n",
       "3  ['GagHumor', 'Historical', 'Parody', 'Samurai']              ['Shounen']   \n",
       "4                 ['Gore', 'Military', 'Survival']              ['Shounen']   \n",
       "\n",
       "  Seasonal  \n",
       "0    False  \n",
       "1    False  \n",
       "2     True  \n",
       "3    False  \n",
       "4     True  \n",
       "\n",
       "[5 rows x 27 columns]"
      ]
     },
     "execution_count": 174,
     "metadata": {},
     "output_type": "execute_result"
    }
   ],
   "source": [
    "anime.head()"
   ]
  },
  {
   "cell_type": "code",
   "execution_count": 175,
   "metadata": {},
   "outputs": [
    {
     "name": "stdout",
     "output_type": "stream",
     "text": [
      "<class 'pandas.core.frame.DataFrame'>\n",
      "RangeIndex: 15262 entries, 0 to 15261\n",
      "Data columns (total 27 columns):\n",
      " #   Column           Non-Null Count  Dtype  \n",
      "---  ------           --------------  -----  \n",
      " 0   Japanese         15047 non-null  object \n",
      " 1   Type             15262 non-null  object \n",
      " 2   Episodes         15262 non-null  object \n",
      " 3   Status           15262 non-null  object \n",
      " 4   Aired            15262 non-null  object \n",
      " 5   Premiered        5527 non-null   object \n",
      " 6   Producers        15262 non-null  object \n",
      " 7   Licensors        15262 non-null  object \n",
      " 8   Studios          15253 non-null  object \n",
      " 9   Source           15262 non-null  object \n",
      " 10  Genres           15262 non-null  object \n",
      " 11  Duration         15262 non-null  object \n",
      " 12  Rating           15262 non-null  object \n",
      " 13  Score            15262 non-null  float64\n",
      " 14  Ranked           15262 non-null  int64  \n",
      " 15  Popularity       15262 non-null  int64  \n",
      " 16  Members          15262 non-null  int64  \n",
      " 17  Favorites        15262 non-null  int64  \n",
      " 18  description      15262 non-null  object \n",
      " 19  Name             15262 non-null  object \n",
      " 20  English Name     6840 non-null   object \n",
      " 21  Recommended      15262 non-null  int64  \n",
      " 22  Mixed Feelings   15262 non-null  int64  \n",
      " 23  Not Recommended  15262 non-null  int64  \n",
      " 24  Themes           15262 non-null  object \n",
      " 25  Demographics     15262 non-null  object \n",
      " 26  Seasonal         15262 non-null  bool   \n",
      "dtypes: bool(1), float64(1), int64(7), object(18)\n",
      "memory usage: 3.0+ MB\n"
     ]
    }
   ],
   "source": [
    "anime.info()"
   ]
  },
  {
   "cell_type": "markdown",
   "metadata": {},
   "source": [
    "🔎Dectando Valores Duplicados"
   ]
  },
  {
   "cell_type": "code",
   "execution_count": 176,
   "metadata": {},
   "outputs": [
    {
     "data": {
      "text/plain": [
       "3"
      ]
     },
     "execution_count": 176,
     "metadata": {},
     "output_type": "execute_result"
    }
   ],
   "source": [
    "# Verificar se há linhas duplicadas\n",
    "anime.duplicated().sum()"
   ]
  },
  {
   "cell_type": "markdown",
   "metadata": {},
   "source": [
    "🔎Dectando Valores Ausentes"
   ]
  },
  {
   "cell_type": "code",
   "execution_count": 177,
   "metadata": {},
   "outputs": [
    {
     "name": "stdout",
     "output_type": "stream",
     "text": [
      "Premiered          9735\n",
      "English Name       8422\n",
      "Japanese            215\n",
      "Studios               9\n",
      "Popularity            0\n",
      "Demographics          0\n",
      "Themes                0\n",
      "Not Recommended       0\n",
      "Mixed Feelings        0\n",
      "Recommended           0\n",
      "Name                  0\n",
      "description           0\n",
      "Favorites             0\n",
      "Members               0\n",
      "Score                 0\n",
      "Ranked                0\n",
      "Type                  0\n",
      "Rating                0\n",
      "Duration              0\n",
      "Genres                0\n",
      "Source                0\n",
      "Licensors             0\n",
      "Producers             0\n",
      "Aired                 0\n",
      "Status                0\n",
      "Episodes              0\n",
      "Seasonal              0\n",
      "dtype: int64\n"
     ]
    }
   ],
   "source": [
    "valAusentes = anime.isnull().sum().sort_values(ascending = False)\n",
    "\n",
    "print(valAusentes)"
   ]
  },
  {
   "cell_type": "code",
   "execution_count": 178,
   "metadata": {},
   "outputs": [
    {
     "name": "stdout",
     "output_type": "stream",
     "text": [
      "Premiered       63.785873\n",
      "English Name    55.182807\n",
      "Japanese         1.408728\n",
      "Studios          0.058970\n",
      "dtype: float64 %\n"
     ]
    }
   ],
   "source": [
    "# Calculando o percentual de valores ausentes\n",
    "valores_ausentes_percent = valAusentes[valAusentes > 0] / anime.shape[0] \n",
    "\n",
    "print(f'{valores_ausentes_percent * 100} %')"
   ]
  },
  {
   "cell_type": "markdown",
   "metadata": {},
   "source": [
    "> 📄Vamos criar um DataFrame novo e deixar apenas as colunas que precisamos"
   ]
  },
  {
   "cell_type": "code",
   "execution_count": 179,
   "metadata": {},
   "outputs": [
    {
     "data": {
      "text/html": [
       "<div>\n",
       "<style scoped>\n",
       "    .dataframe tbody tr th:only-of-type {\n",
       "        vertical-align: middle;\n",
       "    }\n",
       "\n",
       "    .dataframe tbody tr th {\n",
       "        vertical-align: top;\n",
       "    }\n",
       "\n",
       "    .dataframe thead th {\n",
       "        text-align: right;\n",
       "    }\n",
       "</style>\n",
       "<table border=\"1\" class=\"dataframe\">\n",
       "  <thead>\n",
       "    <tr style=\"text-align: right;\">\n",
       "      <th></th>\n",
       "      <th>Score</th>\n",
       "      <th>Name</th>\n",
       "      <th>Genres</th>\n",
       "    </tr>\n",
       "  </thead>\n",
       "  <tbody>\n",
       "    <tr>\n",
       "      <th>1322</th>\n",
       "      <td>7.661</td>\n",
       "      <td>Shirobako Movie</td>\n",
       "      <td>['Comedy', 'Drama']</td>\n",
       "    </tr>\n",
       "    <tr>\n",
       "      <th>13455</th>\n",
       "      <td>0.000</td>\n",
       "      <td>Shuimu Juchang 365 Ye Gushi</td>\n",
       "      <td>['Comedy']</td>\n",
       "    </tr>\n",
       "    <tr>\n",
       "      <th>4616</th>\n",
       "      <td>6.911</td>\n",
       "      <td>Hoshi no Kirby</td>\n",
       "      <td>['Action', 'Adventure', 'Comedy', 'Fantasy']</td>\n",
       "    </tr>\n",
       "    <tr>\n",
       "      <th>10331</th>\n",
       "      <td>5.821</td>\n",
       "      <td>Ganbare Goemon: Chikyuu Kyuushutsu Daisakusen</td>\n",
       "      <td>['Comedy']</td>\n",
       "    </tr>\n",
       "    <tr>\n",
       "      <th>4522</th>\n",
       "      <td>6.921</td>\n",
       "      <td>UFO Princess Valkyrie 2: Juunigatsu no Yasoukyoku</td>\n",
       "      <td>['Comedy', 'Romance', 'Sci-Fi']</td>\n",
       "    </tr>\n",
       "    <tr>\n",
       "      <th>11913</th>\n",
       "      <td>5.391</td>\n",
       "      <td>Zekkyou Gakkyuu: Tensei</td>\n",
       "      <td>['Horror', 'Supernatural']</td>\n",
       "    </tr>\n",
       "    <tr>\n",
       "      <th>10559</th>\n",
       "      <td>5.771</td>\n",
       "      <td>Fudanshi Shoukan: Isekai de Shinjuu ni Hamerar...</td>\n",
       "      <td>['BoysLove', 'Fantasy']</td>\n",
       "    </tr>\n",
       "    <tr>\n",
       "      <th>5914</th>\n",
       "      <td>6.651</td>\n",
       "      <td>Concrete Revolutio: Choujin Gensou</td>\n",
       "      <td>['Action', 'Drama', 'Fantasy', 'Mystery', 'Sci...</td>\n",
       "    </tr>\n",
       "    <tr>\n",
       "      <th>10417</th>\n",
       "      <td>5.801</td>\n",
       "      <td>Kerokero Keroppi no Robin Hood</td>\n",
       "      <td>['Fantasy']</td>\n",
       "    </tr>\n",
       "    <tr>\n",
       "      <th>9196</th>\n",
       "      <td>6.061</td>\n",
       "      <td>Kageyama Tamio no Double Fantasy</td>\n",
       "      <td>['Comedy', 'Horror']</td>\n",
       "    </tr>\n",
       "  </tbody>\n",
       "</table>\n",
       "</div>"
      ],
      "text/plain": [
       "       Score                                               Name  \\\n",
       "1322   7.661                                    Shirobako Movie   \n",
       "13455  0.000                        Shuimu Juchang 365 Ye Gushi   \n",
       "4616   6.911                                     Hoshi no Kirby   \n",
       "10331  5.821      Ganbare Goemon: Chikyuu Kyuushutsu Daisakusen   \n",
       "4522   6.921  UFO Princess Valkyrie 2: Juunigatsu no Yasoukyoku   \n",
       "11913  5.391                            Zekkyou Gakkyuu: Tensei   \n",
       "10559  5.771  Fudanshi Shoukan: Isekai de Shinjuu ni Hamerar...   \n",
       "5914   6.651                 Concrete Revolutio: Choujin Gensou   \n",
       "10417  5.801                     Kerokero Keroppi no Robin Hood   \n",
       "9196   6.061                   Kageyama Tamio no Double Fantasy   \n",
       "\n",
       "                                                  Genres  \n",
       "1322                                 ['Comedy', 'Drama']  \n",
       "13455                                         ['Comedy']  \n",
       "4616        ['Action', 'Adventure', 'Comedy', 'Fantasy']  \n",
       "10331                                         ['Comedy']  \n",
       "4522                     ['Comedy', 'Romance', 'Sci-Fi']  \n",
       "11913                         ['Horror', 'Supernatural']  \n",
       "10559                            ['BoysLove', 'Fantasy']  \n",
       "5914   ['Action', 'Drama', 'Fantasy', 'Mystery', 'Sci...  \n",
       "10417                                        ['Fantasy']  \n",
       "9196                                ['Comedy', 'Horror']  "
      ]
     },
     "execution_count": 179,
     "metadata": {},
     "output_type": "execute_result"
    }
   ],
   "source": [
    "df_anime = anime[['Score', 'Name', 'Genres']]\n",
    "\n",
    "df_anime.sample(10)"
   ]
  },
  {
   "cell_type": "markdown",
   "metadata": {},
   "source": [
    "🔎Verificando se tem valores nulos no novo DataFrame"
   ]
  },
  {
   "cell_type": "code",
   "execution_count": 180,
   "metadata": {},
   "outputs": [
    {
     "name": "stdout",
     "output_type": "stream",
     "text": [
      "Score     0\n",
      "Name      0\n",
      "Genres    0\n",
      "dtype: int64\n"
     ]
    }
   ],
   "source": [
    "valAusentes = df_anime.isnull().sum().sort_values(ascending = False)\n",
    "\n",
    "print(valAusentes)"
   ]
  },
  {
   "cell_type": "markdown",
   "metadata": {},
   "source": [
    "🔎Verificando se tem valores duplicados novo DataFrame"
   ]
  },
  {
   "cell_type": "code",
   "execution_count": 181,
   "metadata": {},
   "outputs": [
    {
     "data": {
      "text/plain": [
       "3"
      ]
     },
     "execution_count": 181,
     "metadata": {},
     "output_type": "execute_result"
    }
   ],
   "source": [
    "# Verificar se há linhas duplicadas\n",
    "df_anime.duplicated().sum()"
   ]
  },
  {
   "cell_type": "code",
   "execution_count": 182,
   "metadata": {},
   "outputs": [
    {
     "data": {
      "text/html": [
       "<div>\n",
       "<style scoped>\n",
       "    .dataframe tbody tr th:only-of-type {\n",
       "        vertical-align: middle;\n",
       "    }\n",
       "\n",
       "    .dataframe tbody tr th {\n",
       "        vertical-align: top;\n",
       "    }\n",
       "\n",
       "    .dataframe thead th {\n",
       "        text-align: right;\n",
       "    }\n",
       "</style>\n",
       "<table border=\"1\" class=\"dataframe\">\n",
       "  <thead>\n",
       "    <tr style=\"text-align: right;\">\n",
       "      <th></th>\n",
       "      <th>Score</th>\n",
       "      <th>Name</th>\n",
       "      <th>Genres</th>\n",
       "    </tr>\n",
       "  </thead>\n",
       "  <tbody>\n",
       "    <tr>\n",
       "      <th>6860</th>\n",
       "      <td>6.491</td>\n",
       "      <td>Garouden: The Way of the Lone Wolf</td>\n",
       "      <td>['Action']</td>\n",
       "    </tr>\n",
       "    <tr>\n",
       "      <th>10450</th>\n",
       "      <td>5.801</td>\n",
       "      <td>Z/X: Code Reunion</td>\n",
       "      <td>['Fantasy', 'Sci-Fi']</td>\n",
       "    </tr>\n",
       "    <tr>\n",
       "      <th>10451</th>\n",
       "      <td>5.801</td>\n",
       "      <td>Zegapain ADP</td>\n",
       "      <td>['Action', 'Romance', 'Sci-Fi']</td>\n",
       "    </tr>\n",
       "  </tbody>\n",
       "</table>\n",
       "</div>"
      ],
      "text/plain": [
       "       Score                                Name  \\\n",
       "6860   6.491  Garouden: The Way of the Lone Wolf   \n",
       "10450  5.801                   Z/X: Code Reunion   \n",
       "10451  5.801                        Zegapain ADP   \n",
       "\n",
       "                                Genres  \n",
       "6860                        ['Action']  \n",
       "10450            ['Fantasy', 'Sci-Fi']  \n",
       "10451  ['Action', 'Romance', 'Sci-Fi']  "
      ]
     },
     "execution_count": 182,
     "metadata": {},
     "output_type": "execute_result"
    }
   ],
   "source": [
    "df_anime[df_anime.duplicated()]"
   ]
  },
  {
   "cell_type": "markdown",
   "metadata": {},
   "source": [
    "# Limpeza e Tratamento dos Dados"
   ]
  },
  {
   "cell_type": "markdown",
   "metadata": {},
   "source": [
    "> 📄Como encontramos valores duplicados, precisamos trata-los"
   ]
  },
  {
   "cell_type": "code",
   "execution_count": 183,
   "metadata": {},
   "outputs": [
    {
     "data": {
      "text/plain": [
       "(15262, 3)"
      ]
     },
     "execution_count": 183,
     "metadata": {},
     "output_type": "execute_result"
    }
   ],
   "source": [
    "df_anime.shape"
   ]
  },
  {
   "cell_type": "code",
   "execution_count": 184,
   "metadata": {},
   "outputs": [],
   "source": [
    "#Removendo as duplicatas\n",
    "df_anime = df_anime.drop_duplicates()"
   ]
  },
  {
   "cell_type": "code",
   "execution_count": 185,
   "metadata": {},
   "outputs": [
    {
     "data": {
      "text/plain": [
       "0"
      ]
     },
     "execution_count": 185,
     "metadata": {},
     "output_type": "execute_result"
    }
   ],
   "source": [
    "#Verificando se as duplicatas foram removidas\n",
    "df_anime.duplicated().sum()"
   ]
  },
  {
   "cell_type": "code",
   "execution_count": 186,
   "metadata": {},
   "outputs": [
    {
     "data": {
      "text/plain": [
       "(15259, 3)"
      ]
     },
     "execution_count": 186,
     "metadata": {},
     "output_type": "execute_result"
    }
   ],
   "source": [
    "df_anime.shape"
   ]
  },
  {
   "cell_type": "markdown",
   "metadata": {},
   "source": [
    "# Análise dos Dados"
   ]
  },
  {
   "cell_type": "markdown",
   "metadata": {},
   "source": [
    "> 📄Vamos verificar se o Score dos animes segue uma distribuição normal"
   ]
  },
  {
   "cell_type": "code",
   "execution_count": 187,
   "metadata": {},
   "outputs": [
    {
     "data": {
      "text/html": [
       "<div>\n",
       "<style scoped>\n",
       "    .dataframe tbody tr th:only-of-type {\n",
       "        vertical-align: middle;\n",
       "    }\n",
       "\n",
       "    .dataframe tbody tr th {\n",
       "        vertical-align: top;\n",
       "    }\n",
       "\n",
       "    .dataframe thead th {\n",
       "        text-align: right;\n",
       "    }\n",
       "</style>\n",
       "<table border=\"1\" class=\"dataframe\">\n",
       "  <thead>\n",
       "    <tr style=\"text-align: right;\">\n",
       "      <th></th>\n",
       "      <th>Score</th>\n",
       "    </tr>\n",
       "  </thead>\n",
       "  <tbody>\n",
       "    <tr>\n",
       "      <th>count</th>\n",
       "      <td>15259.000000</td>\n",
       "    </tr>\n",
       "    <tr>\n",
       "      <th>mean</th>\n",
       "      <td>5.683925</td>\n",
       "    </tr>\n",
       "    <tr>\n",
       "      <th>std</th>\n",
       "      <td>2.335074</td>\n",
       "    </tr>\n",
       "    <tr>\n",
       "      <th>min</th>\n",
       "      <td>0.000000</td>\n",
       "    </tr>\n",
       "    <tr>\n",
       "      <th>25%</th>\n",
       "      <td>5.541000</td>\n",
       "    </tr>\n",
       "    <tr>\n",
       "      <th>50%</th>\n",
       "      <td>6.351000</td>\n",
       "    </tr>\n",
       "    <tr>\n",
       "      <th>75%</th>\n",
       "      <td>7.081000</td>\n",
       "    </tr>\n",
       "    <tr>\n",
       "      <th>max</th>\n",
       "      <td>9.361000</td>\n",
       "    </tr>\n",
       "  </tbody>\n",
       "</table>\n",
       "</div>"
      ],
      "text/plain": [
       "              Score\n",
       "count  15259.000000\n",
       "mean       5.683925\n",
       "std        2.335074\n",
       "min        0.000000\n",
       "25%        5.541000\n",
       "50%        6.351000\n",
       "75%        7.081000\n",
       "max        9.361000"
      ]
     },
     "execution_count": 187,
     "metadata": {},
     "output_type": "execute_result"
    }
   ],
   "source": [
    "df_anime.describe()"
   ]
  },
  {
   "cell_type": "code",
   "execution_count": 188,
   "metadata": {},
   "outputs": [],
   "source": [
    "# Calcular média e desvio padrão\n",
    "media = df_anime['Score'].mean()\n",
    "desvio_padrao = df_anime['Score'].std()"
   ]
  },
  {
   "cell_type": "code",
   "execution_count": 189,
   "metadata": {},
   "outputs": [
    {
     "data": {
      "text/plain": [
       "5.683924503571663"
      ]
     },
     "execution_count": 189,
     "metadata": {},
     "output_type": "execute_result"
    }
   ],
   "source": [
    "media"
   ]
  },
  {
   "cell_type": "code",
   "execution_count": 190,
   "metadata": {},
   "outputs": [
    {
     "data": {
      "text/plain": [
       "2.335074481998658"
      ]
     },
     "execution_count": 190,
     "metadata": {},
     "output_type": "execute_result"
    }
   ],
   "source": [
    "desvio_padrao"
   ]
  },
  {
   "cell_type": "code",
   "execution_count": 191,
   "metadata": {},
   "outputs": [],
   "source": [
    "df_anime['log_score'] = np.log1p(df_anime['Score'])  # log1p evita problemas com valores 0"
   ]
  },
  {
   "cell_type": "code",
   "execution_count": 192,
   "metadata": {},
   "outputs": [
    {
     "data": {
      "image/png": "[encoded data removed]",
      "text/plain": [
       "<Figure size 1000x600 with 1 Axes>"
      ]
     },
     "metadata": {},
     "output_type": "display_data"
    }
   ],
   "source": [
    "# Histograma da nova distribuição\n",
    "plt.figure(figsize=(10, 6))\n",
    "sns.histplot(df_anime['log_score'], bins=30, kde=True, color='blue')\n",
    "plt.axvline(df_anime['log_score'].mean(), color='red', linestyle='--', label='Média')\n",
    "plt.title('Distribuição Logarítmica das Notas dos Animes')\n",
    "plt.xlabel('Logarítmico das Notas')\n",
    "plt.ylabel('Frequência')\n",
    "plt.legend()\n",
    "plt.show()\n"
   ]
  },
  {
   "cell_type": "code",
   "execution_count": 193,
   "metadata": {},
   "outputs": [
    {
     "data": {
      "image/png": "[encoded data removed]",
      "text/plain": [
       "<Figure size 1000x600 with 1 Axes>"
      ]
     },
     "metadata": {},
     "output_type": "display_data"
    }
   ],
   "source": [
    "# Gráfico Q-Q\n",
    "plt.figure(figsize=(10, 6))\n",
    "stats.probplot(df_anime['log_score'], dist=\"norm\", plot=plt)\n",
    "plt.title('Q-Q Plot das Notas Logarítmicas dos Animes')\n",
    "plt.show()\n"
   ]
  },
  {
   "cell_type": "code",
   "execution_count": 194,
   "metadata": {},
   "outputs": [
    {
     "name": "stdout",
     "output_type": "stream",
     "text": [
      "Probabilidade de nota > 8: 0.1606\n"
     ]
    }
   ],
   "source": [
    "# Calculando o z-score para nota 8\n",
    "z = (8 - media) / desvio_padrao\n",
    "\n",
    "# Calculando a probabilidade acumulada (área à esquerda de 8)\n",
    "p_less_than_8 = norm.cdf(z)\n",
    "\n",
    "# A probabilidade de ser maior que 8 será o complemento\n",
    "p_greater_than_8 = 1 - p_less_than_8\n",
    "print(f\"Probabilidade de nota > 8: {p_greater_than_8:.4f}\")"
   ]
  },
  {
   "cell_type": "markdown",
   "metadata": {},
   "source": [
    "# Conclusão \n",
    "📝Qual a chance de um anime ser considerado \"excelente\" (nota > 8)?"
   ]
  },
  {
   "cell_type": "markdown",
   "metadata": {},
   "source": [
    "A chance de um anime ser considerado exelente é de aproximadamente 16,06%"
   ]
  }
 ],
 "metadata": {
  "kernelspec": {
   "display_name": "base",
   "language": "python",
   "name": "python3"
  },
  "language_info": {
   "codemirror_mode": {
    "name": "ipython",
    "version": 3
   },
   "file_extension": ".py",
   "mimetype": "text/x-python",
   "name": "python",
   "nbconvert_exporter": "python",
   "pygments_lexer": "ipython3",
   "version": "3.12.4"
  }
 },
 "nbformat": 4,
 "nbformat_minor": 2
}
